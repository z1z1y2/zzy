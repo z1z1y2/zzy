{
 "cells": [
  {
   "cell_type": "markdown",
   "metadata": {
    "id": "CCFED2B0CB494570A8EF7AB7CB85BCBB",
    "jupyter": {},
    "notebookId": "6705dc4344c2789333d0d7c7",
    "runtime": {
     "execution_status": null,
     "is_visible": false,
     "status": "default"
    },
    "scrolled": false,
    "slideshow": {
     "slide_type": "slide"
    },
    "tags": []
   },
   "source": [
    "## 导入库"
   ]
  },
  {
   "cell_type": "code",
   "execution_count": 14,
   "metadata": {
    "id": "810CF482643D4985AFA558B9F60AF78D",
    "jupyter": {},
    "notebookId": "6705dc4344c2789333d0d7c7",
    "scrolled": false,
    "slideshow": {
     "slide_type": "slide"
    },
    "tags": []
   },
   "outputs": [],
   "source": [
    "import pandas as pd\n",
    "import os\n",
    "import matplotlib.pyplot as plt\n",
    "import seaborn as sns\n",
    "import numpy as np\n",
    "from sklearn.model_selection import train_test_split\n",
    "from sklearn.metrics import classification_report, confusion_matrix\n",
    "import tensorflow as tf\n",
    "from tensorflow.keras import layers, models\n",
    "from tensorflow.keras.preprocessing.image import ImageDataGenerator\n",
    "from tensorflow.keras.preprocessing.image import load_img, img_to_array\n",
    "from tensorflow.keras.models import Sequential, load_model\n",
    "from tensorflow.keras.layers import Conv2D, MaxPooling2D, Flatten, Dense, Dropout\n",
    "from tensorflow.keras import regularizers\n",
    "import warnings\n",
    "\n"
   ]
  },
  {
   "cell_type": "markdown",
   "metadata": {
    "id": "C3A7F58A20E34E049454A82832096337",
    "jupyter": {},
    "notebookId": "6705dc4344c2789333d0d7c7",
    "runtime": {
     "execution_status": null,
     "is_visible": false,
     "status": "default"
    },
    "scrolled": false,
    "slideshow": {
     "slide_type": "slide"
    },
    "tags": []
   },
   "source": [
    "## 数据分析及可视化"
   ]
  },
  {
   "cell_type": "code",
   "execution_count": 2,
   "metadata": {
    "id": "4FC61B519BE24DD590C9913A15FBDA95",
    "jupyter": {},
    "notebookId": "6705dc4344c2789333d0d7c7",
    "scrolled": false,
    "slideshow": {
     "slide_type": "slide"
    },
    "tags": []
   },
   "outputs": [
    {
     "data": {
      "text/html": [
       "<div>\n",
       "<style scoped>\n",
       "    .dataframe tbody tr th:only-of-type {\n",
       "        vertical-align: middle;\n",
       "    }\n",
       "\n",
       "    .dataframe tbody tr th {\n",
       "        vertical-align: top;\n",
       "    }\n",
       "\n",
       "    .dataframe thead th {\n",
       "        text-align: right;\n",
       "    }\n",
       "</style>\n",
       "<table border=\"1\" class=\"dataframe\">\n",
       "  <thead>\n",
       "    <tr style=\"text-align: right;\">\n",
       "      <th></th>\n",
       "      <th>filename</th>\n",
       "      <th>label</th>\n",
       "    </tr>\n",
       "  </thead>\n",
       "  <tbody>\n",
       "    <tr>\n",
       "      <th>0</th>\n",
       "      <td>Image_1.jpg</td>\n",
       "      <td>SOUTHERN DOGFACE</td>\n",
       "    </tr>\n",
       "    <tr>\n",
       "      <th>1</th>\n",
       "      <td>Image_2.jpg</td>\n",
       "      <td>ADONIS</td>\n",
       "    </tr>\n",
       "    <tr>\n",
       "      <th>2</th>\n",
       "      <td>Image_3.jpg</td>\n",
       "      <td>BROWN SIPROETA</td>\n",
       "    </tr>\n",
       "    <tr>\n",
       "      <th>3</th>\n",
       "      <td>Image_4.jpg</td>\n",
       "      <td>MONARCH</td>\n",
       "    </tr>\n",
       "    <tr>\n",
       "      <th>4</th>\n",
       "      <td>Image_5.jpg</td>\n",
       "      <td>GREEN CELLED CATTLEHEART</td>\n",
       "    </tr>\n",
       "    <tr>\n",
       "      <th>5</th>\n",
       "      <td>Image_6.jpg</td>\n",
       "      <td>CAIRNS BIRDWING</td>\n",
       "    </tr>\n",
       "    <tr>\n",
       "      <th>6</th>\n",
       "      <td>Image_7.jpg</td>\n",
       "      <td>GREEN CELLED CATTLEHEART</td>\n",
       "    </tr>\n",
       "    <tr>\n",
       "      <th>7</th>\n",
       "      <td>Image_8.jpg</td>\n",
       "      <td>EASTERN DAPPLE WHITE</td>\n",
       "    </tr>\n",
       "    <tr>\n",
       "      <th>8</th>\n",
       "      <td>Image_9.jpg</td>\n",
       "      <td>BROWN SIPROETA</td>\n",
       "    </tr>\n",
       "    <tr>\n",
       "      <th>9</th>\n",
       "      <td>Image_10.jpg</td>\n",
       "      <td>RED POSTMAN</td>\n",
       "    </tr>\n",
       "  </tbody>\n",
       "</table>\n",
       "</div>"
      ],
      "text/plain": [
       "       filename                     label\n",
       "0   Image_1.jpg          SOUTHERN DOGFACE\n",
       "1   Image_2.jpg                    ADONIS\n",
       "2   Image_3.jpg            BROWN SIPROETA\n",
       "3   Image_4.jpg                   MONARCH\n",
       "4   Image_5.jpg  GREEN CELLED CATTLEHEART\n",
       "5   Image_6.jpg           CAIRNS BIRDWING\n",
       "6   Image_7.jpg  GREEN CELLED CATTLEHEART\n",
       "7   Image_8.jpg      EASTERN DAPPLE WHITE\n",
       "8   Image_9.jpg            BROWN SIPROETA\n",
       "9  Image_10.jpg               RED POSTMAN"
      ]
     },
     "execution_count": 2,
     "metadata": {},
     "output_type": "execute_result"
    }
   ],
   "source": [
    "df = pd.read_csv(r\"C:\\Users\\admin\\Desktop\\Training_set.csv\")\n",
    "df.head(10)"
   ]
  },
  {
   "cell_type": "code",
   "execution_count": 6,
   "metadata": {
    "id": "16BEDEF83DF24B65ABB0E52615CECDCB",
    "jupyter": {},
    "notebookId": "6705dc4344c2789333d0d7c7",
    "scrolled": false,
    "slideshow": {
     "slide_type": "slide"
    },
    "tags": []
   },
   "outputs": [
    {
     "name": "stdout",
     "output_type": "stream",
     "text": [
      "查看数据信息\n",
      "              filename           label\n",
      "count             6499            6499\n",
      "unique            6499              75\n",
      "top     Image_4817.jpg  MOURNING CLOAK\n",
      "freq                 1             131\n",
      "查看空值\n",
      "filename    0\n",
      "label       0\n",
      "dtype: int64\n"
     ]
    }
   ],
   "source": [
    "print(\"查看数据信息\")\n",
    "print(df.describe())\n",
    "print(\"查看空值\")\n",
    "print(df.isnull().sum())"
   ]
  },
  {
   "cell_type": "markdown",
   "metadata": {
    "id": "F9F6E842F2B945AD945BB76C534D18C4",
    "jupyter": {},
    "notebookId": "6705dc4344c2789333d0d7c7",
    "runtime": {
     "execution_status": null,
     "is_visible": false,
     "status": "default"
    },
    "scrolled": false,
    "slideshow": {
     "slide_type": "slide"
    },
    "tags": []
   },
   "source": [
    "**查看各个类别包含的数据量**"
   ]
  },
  {
   "cell_type": "code",
   "execution_count": 3,
   "metadata": {
    "id": "17FCF27191384BBC8C7D921E6FB59287",
    "jupyter": {},
    "notebookId": "6705dc4344c2789333d0d7c7",
    "scrolled": false,
    "slideshow": {
     "slide_type": "slide"
    },
    "tags": []
   },
   "outputs": [
    {
     "data": {
      "text/html": [
       "<img src=\"https://cdn.kesci.com/upload/rt/17FCF27191384BBC8C7D921E6FB59287/sl2sin4aj.png\">"
      ],
      "text/plain": [
       "<Figure size 1008x576 with 1 Axes>"
      ]
     },
     "metadata": {
      "needs_background": "light"
     },
     "output_type": "display_data"
    }
   ],
   "source": [
    "labelcounts = df['label'].value_counts().sort_index()\n",
    "plt.figure(figsize=(14, 8))\n",
    "sns.barplot(x=labelcounts.index, y=labelcounts.values, palette='viridis')\n",
    "plt.title('蝴蝶类型数目详细信息')\n",
    "plt.xlabel('蝴蝶类型')\n",
    "plt.ylabel('类别数量')\n",
    "plt.xticks(rotation=90)\n",
    "plt.tight_layout()\n",
    "plt.show()"
   ]
  },
  {
   "cell_type": "markdown",
   "metadata": {
    "id": "C81B9E36C610462F831CBF8E5EC2E17B",
    "jupyter": {},
    "notebookId": "6705dc4344c2789333d0d7c7",
    "runtime": {
     "execution_status": null,
     "is_visible": false,
     "status": "default"
    },
    "scrolled": false,
    "slideshow": {
     "slide_type": "slide"
    },
    "tags": []
   },
   "source": [
    "**随机查看部分图片及其对应的标签**"
   ]
  },
  {
   "cell_type": "code",
   "execution_count": 4,
   "metadata": {
    "id": "7C8C46B77BC846C29C9ED2A1B7B8F440",
    "jupyter": {},
    "notebookId": "6705dc4344c2789333d0d7c7",
    "scrolled": false,
    "slideshow": {
     "slide_type": "slide"
    },
    "tags": []
   },
   "outputs": [
    {
     "data": {
      "text/html": [
       "<img src=\"https://cdn.kesci.com/upload/rt/7C8C46B77BC846C29C9ED2A1B7B8F440/sl2sirg7ig.png\">"
      ],
      "text/plain": [
       "<Figure size 1080x1080 with 12 Axes>"
      ]
     },
     "metadata": {
      "needs_background": "light"
     },
     "output_type": "display_data"
    }
   ],
   "source": [
    "image_dir = \"C:\\Users\\admin\\Desktop\\btfl\\train\"\n",
    "sample_images = df.sample(12, random_state=43)\n",
    "fig, axes = plt.subplots(4, 3, figsize=(15, 15))\n",
    "\n",
    "for i, (index, row) in enumerate(sample_images.iterrows()):\n",
    "    img_path = os.path.join(image_dir, row['filename'])\n",
    "    img = load_img(img_path, target_size=(150, 150))\n",
    "    img_array = img_to_array(img) / 255.0  \n",
    "    \n",
    "    ax = axes[i // 3, i % 3]\n",
    "    ax.imshow(img_array)\n",
    "    ax.set_title(f\"类别: {row['label']}\")\n",
    "    ax.axis('off')\n",
    "\n",
    "plt.tight_layout()\n",
    "plt.show()"
   ]
  },
  {
   "cell_type": "markdown",
   "metadata": {},
   "source": [
    "## 数据预处理"
   ]
  },
  {
   "cell_type": "code",
   "execution_count": 24,
   "metadata": {
    "id": "1FAE914E02914C69833147458801734B",
    "jupyter": {},
    "notebookId": "6705dc4344c2789333d0d7c7",
    "scrolled": false,
    "slideshow": {
     "slide_type": "slide"
    },
    "tags": []
   },
   "outputs": [
    {
     "name": "stdout",
     "output_type": "stream",
     "text": [
      "Found 5199 validated image filenames belonging to 75 classes.\n",
      "Found 1300 validated image filenames belonging to 75 classes.\n"
     ]
    }
   ],
   "source": [
    "train_df, val_df = train_test_split(df, test_size=0.2, random_state=42)\n",
    "\n",
    "train_datagen = ImageDataGenerator(\n",
    "    rescale=1./255, # 将像素值归一化到 [0, 1] 范围\n",
    "    rotation_range=40, # 随机旋转图片，范围为0到40度\n",
    "    width_shift_range=0.2, # 随机水平和垂直平移图片，范围为20%\n",
    "    height_shift_range=0.2,\n",
    "    shear_range=0.2,\n",
    "    zoom_range=0.2, # 随机缩放图片\n",
    "    horizontal_flip=True,\n",
    "    fill_mode='nearest' # 在变换时填充空白区域，使用最近邻插值\n",
    ")\n",
    "\n",
    "val_datagen = ImageDataGenerator(rescale=1./255)\n",
    "\n",
    "train_generator = train_datagen.flow_from_dataframe(\n",
    "    dataframe=train_df,\n",
    "    directory=image_dir,\n",
    "    x_col='filename',\n",
    "    y_col='label',\n",
    "    target_size=(150, 150),\n",
    "    batch_size=32,\n",
    "    class_mode='categorical' # 将标签转换为独热编码形式\n",
    ")\n",
    "\n",
    "val_generator = val_datagen.flow_from_dataframe(\n",
    "    dataframe=val_df,\n",
    "    directory=image_dir,\n",
    "    x_col='filename',\n",
    "    y_col='label',\n",
    "    target_size=(150, 150),\n",
    "    batch_size=32,\n",
    "    class_mode='categorical'\n",
    ")"
   ]
  },
  {
   "cell_type": "code",
   "execution_count": 6,
   "metadata": {
    "id": "A0C3C9B39DA54098A73E2DD0A73F52EF",
    "jupyter": {},
    "notebookId": "6705dc4344c2789333d0d7c7",
    "scrolled": false,
    "slideshow": {
     "slide_type": "slide"
    },
    "tags": []
   },
   "outputs": [
    {
     "data": {
      "text/html": [
       "<img src=\"https://cdn.kesci.com/upload/rt/A0C3C9B39DA54098A73E2DD0A73F52EF/sl2sixnvba.png\">"
      ],
      "text/plain": [
       "<Figure size 864x576 with 10 Axes>"
      ]
     },
     "metadata": {
      "needs_background": "light"
     },
     "output_type": "display_data"
    }
   ],
   "source": [
    "images, labels = next(train_generator)\n",
    "\n",
    "# 设置绘图参数\n",
    "plt.figure(figsize=(12, 8))\n",
    "\n",
    "# 显示前10张图片及其标签\n",
    "for i in range(10):\n",
    "    plt.subplot(5, 2, i + 1)\n",
    "    plt.imshow(images[i])  # 显示图片\n",
    "    plt.title(f'Label: {labels[i]}')  # 显示标签\n",
    "    plt.axis('off')  # 不显示坐标轴\n",
    "\n",
    "plt.tight_layout()\n",
    "plt.show()\n"
   ]
  },
  {
   "cell_type": "markdown",
   "metadata": {},
   "source": [
    "## 构建模型"
   ]
  },
  {
   "cell_type": "code",
   "execution_count": 7,
   "metadata": {
    "id": "BF18FD153CD34690A1AD750FC27E0CC5",
    "jupyter": {},
    "notebookId": "6705dc4344c2789333d0d7c7",
    "scrolled": false,
    "slideshow": {
     "slide_type": "slide"
    },
    "tags": []
   },
   "outputs": [
    {
     "name": "stdout",
     "output_type": "stream",
     "text": [
      "WARNING:tensorflow:From /opt/conda/lib/python3.6/site-packages/tensorflow/python/ops/resource_variable_ops.py:435: colocate_with (from tensorflow.python.framework.ops) is deprecated and will be removed in a future version.\n",
      "Instructions for updating:\n",
      "Colocations handled automatically by placer.\n",
      "WARNING:tensorflow:From /opt/conda/lib/python3.6/site-packages/tensorflow/python/keras/layers/core.py:143: calling dropout (from tensorflow.python.ops.nn_ops) with keep_prob is deprecated and will be removed in a future version.\n",
      "Instructions for updating:\n",
      "Please use `rate` instead of `keep_prob`. Rate should be set to `rate = 1 - keep_prob`.\n"
     ]
    }
   ],
   "source": [
    "# 获取类别数量\n",
    "num_classes = len(train_generator.class_indices)\n",
    "\n",
    "# 构建模型\n",
    "model = Sequential()\n",
    "model.add(Conv2D(32, (3, 3), activation='relu', input_shape=(150, 150, 3)))\n",
    "model.add(MaxPooling2D(pool_size=(2, 2)))\n",
    "model.add(Conv2D(64, (3, 3), activation='relu'))\n",
    "model.add(MaxPooling2D(pool_size=(2, 2)))\n",
    "model.add(Conv2D(128, (3, 3), activation='relu'))\n",
    "model.add(MaxPooling2D(pool_size=(2, 2)))\n",
    "model.add(Flatten())\n",
    "model.add(Dense(128, activation='relu'))\n",
    "model.add(Dropout(0.5))\n",
    "model.add(Dense(num_classes, activation='softmax'))  # 使用 num_classes\n"
   ]
  },
  {
   "cell_type": "code",
   "execution_count": 8,
   "metadata": {
    "id": "593689A420EB4E9191088D8CD82C80FA",
    "jupyter": {},
    "notebookId": "6705dc4344c2789333d0d7c7",
    "scrolled": false,
    "slideshow": {
     "slide_type": "slide"
    },
    "tags": []
   },
   "outputs": [
    {
     "name": "stdout",
     "output_type": "stream",
     "text": [
      "_________________________________________________________________\n",
      "Layer (type)                 Output Shape              Param #   \n",
      "=================================================================\n",
      "conv2d (Conv2D)              (None, 148, 148, 32)      896       \n",
      "_________________________________________________________________\n",
      "max_pooling2d (MaxPooling2D) (None, 74, 74, 32)        0         \n",
      "_________________________________________________________________\n",
      "conv2d_1 (Conv2D)            (None, 72, 72, 64)        18496     \n",
      "_________________________________________________________________\n",
      "max_pooling2d_1 (MaxPooling2 (None, 36, 36, 64)        0         \n",
      "_________________________________________________________________\n",
      "conv2d_2 (Conv2D)            (None, 34, 34, 128)       73856     \n",
      "_________________________________________________________________\n",
      "max_pooling2d_2 (MaxPooling2 (None, 17, 17, 128)       0         \n",
      "_________________________________________________________________\n",
      "flatten (Flatten)            (None, 36992)             0         \n",
      "_________________________________________________________________\n",
      "dense (Dense)                (None, 128)               4735104   \n",
      "_________________________________________________________________\n",
      "dropout (Dropout)            (None, 128)               0         \n",
      "_________________________________________________________________\n",
      "dense_1 (Dense)              (None, 75)                9675      \n",
      "=================================================================\n",
      "Total params: 4,838,027\n",
      "Trainable params: 4,838,027\n",
      "Non-trainable params: 0\n",
      "_________________________________________________________________\n"
     ]
    }
   ],
   "source": [
    "model.summary()"
   ]
  },
  {
   "cell_type": "code",
   "execution_count": 9,
   "metadata": {
    "id": "CA7A7EFEC4F547A88CD60FCEC58472F9",
    "jupyter": {},
    "notebookId": "6705dc4344c2789333d0d7c7",
    "scrolled": false,
    "slideshow": {
     "slide_type": "slide"
    },
    "tags": []
   },
   "outputs": [],
   "source": [
    "# 编译模型\n",
    "model.compile(optimizer='adam', \n",
    "              loss='categorical_crossentropy', \n",
    "              metrics=['accuracy'])"
   ]
  },
  {
   "cell_type": "code",
   "execution_count": 10,
   "metadata": {
    "id": "25408D0BC2A14815B678BC154AF8B84E",
    "jupyter": {},
    "notebookId": "6705dc4344c2789333d0d7c7",
    "scrolled": false,
    "slideshow": {
     "slide_type": "slide"
    },
    "tags": []
   },
   "outputs": [
    {
     "name": "stdout",
     "output_type": "stream",
     "text": [
      "WARNING:tensorflow:From /opt/conda/lib/python3.6/site-packages/tensorflow/python/ops/math_ops.py:3066: to_int32 (from tensorflow.python.ops.math_ops) is deprecated and will be removed in a future version.\n",
      "Instructions for updating:\n",
      "Use tf.cast instead.\n",
      "Epoch 1/40\n",
      "41/41 [==============================] - 7s 180ms/step - loss: 4.1970 - acc: 0.0469\n",
      "163/163 [==============================] - 93s 568ms/step - loss: 4.3039 - acc: 0.0181 - val_loss: 4.1970 - val_acc: 0.0469\n",
      "Epoch 2/40\n",
      "41/41 [==============================] - 7s 180ms/step - loss: 3.8138 - acc: 0.1015\n",
      "163/163 [==============================] - 92s 567ms/step - loss: 4.1410 - acc: 0.0404 - val_loss: 3.8138 - val_acc: 0.1015\n",
      "Epoch 3/40\n",
      "41/41 [==============================] - 7s 179ms/step - loss: 3.1261 - acc: 0.2062\n",
      "163/163 [==============================] - 92s 566ms/step - loss: 3.7668 - acc: 0.0829 - val_loss: 3.1261 - val_acc: 0.2062\n",
      "Epoch 4/40\n",
      "41/41 [==============================] - 7s 179ms/step - loss: 2.8971 - acc: 0.2254\n",
      "163/163 [==============================] - 92s 565ms/step - loss: 3.3592 - acc: 0.1406 - val_loss: 2.8971 - val_acc: 0.2254\n",
      "Epoch 5/40\n",
      "41/41 [==============================] - 7s 180ms/step - loss: 2.5281 - acc: 0.3131\n",
      "163/163 [==============================] - 92s 566ms/step - loss: 3.0895 - acc: 0.1823 - val_loss: 2.5281 - val_acc: 0.3131\n",
      "Epoch 6/40\n",
      "41/41 [==============================] - 7s 179ms/step - loss: 2.2691 - acc: 0.3992\n",
      "163/163 [==============================] - 92s 564ms/step - loss: 2.8816 - acc: 0.2227 - val_loss: 2.2691 - val_acc: 0.3992\n",
      "Epoch 7/40\n",
      "41/41 [==============================] - 7s 179ms/step - loss: 2.0449 - acc: 0.4423\n",
      "163/163 [==============================] - 92s 565ms/step - loss: 2.6797 - acc: 0.2531 - val_loss: 2.0449 - val_acc: 0.4423\n",
      "Epoch 8/40\n",
      "41/41 [==============================] - 7s 180ms/step - loss: 2.0049 - acc: 0.4631\n",
      "163/163 [==============================] - 92s 566ms/step - loss: 2.5613 - acc: 0.2868 - val_loss: 2.0049 - val_acc: 0.4631\n",
      "Epoch 9/40\n",
      "41/41 [==============================] - 7s 180ms/step - loss: 1.9158 - acc: 0.5085\n",
      "163/163 [==============================] - 92s 563ms/step - loss: 2.4695 - acc: 0.3066 - val_loss: 1.9158 - val_acc: 0.5085\n",
      "Epoch 10/40\n",
      "41/41 [==============================] - 7s 180ms/step - loss: 1.7363 - acc: 0.5262\n",
      "163/163 [==============================] - 92s 567ms/step - loss: 2.3250 - acc: 0.3424 - val_loss: 1.7363 - val_acc: 0.5262\n",
      "Epoch 11/40\n",
      "41/41 [==============================] - 7s 179ms/step - loss: 1.8440 - acc: 0.4638\n",
      "163/163 [==============================] - 92s 565ms/step - loss: 2.2620 - acc: 0.3599 - val_loss: 1.8440 - val_acc: 0.4638\n",
      "Epoch 12/40\n",
      "41/41 [==============================] - 7s 178ms/step - loss: 1.6704 - acc: 0.5408\n",
      "163/163 [==============================] - 92s 564ms/step - loss: 2.1769 - acc: 0.3799 - val_loss: 1.6704 - val_acc: 0.5408\n",
      "Epoch 13/40\n",
      "41/41 [==============================] - 7s 179ms/step - loss: 1.6319 - acc: 0.5554\n",
      "163/163 [==============================] - 92s 564ms/step - loss: 2.1258 - acc: 0.3897 - val_loss: 1.6319 - val_acc: 0.5554\n",
      "Epoch 14/40\n",
      "41/41 [==============================] - 7s 178ms/step - loss: 1.5650 - acc: 0.5923\n",
      "163/163 [==============================] - 92s 567ms/step - loss: 2.0684 - acc: 0.4162 - val_loss: 1.5650 - val_acc: 0.5923\n",
      "Epoch 15/40\n",
      "41/41 [==============================] - 7s 180ms/step - loss: 1.5843 - acc: 0.5546\n",
      "163/163 [==============================] - 92s 564ms/step - loss: 2.0095 - acc: 0.4276 - val_loss: 1.5843 - val_acc: 0.5546\n",
      "Epoch 16/40\n",
      "41/41 [==============================] - 7s 180ms/step - loss: 1.4450 - acc: 0.5877\n",
      "163/163 [==============================] - 92s 566ms/step - loss: 1.9770 - acc: 0.4328 - val_loss: 1.4450 - val_acc: 0.5877\n",
      "Epoch 17/40\n",
      "41/41 [==============================] - 7s 178ms/step - loss: 1.4441 - acc: 0.5923\n",
      "163/163 [==============================] - 92s 565ms/step - loss: 1.9309 - acc: 0.4405 - val_loss: 1.4441 - val_acc: 0.5923\n",
      "Epoch 18/40\n",
      "41/41 [==============================] - 7s 179ms/step - loss: 1.4337 - acc: 0.5908\n",
      "163/163 [==============================] - 92s 565ms/step - loss: 1.8810 - acc: 0.4595 - val_loss: 1.4337 - val_acc: 0.5908\n",
      "Epoch 19/40\n",
      "41/41 [==============================] - 7s 179ms/step - loss: 1.3382 - acc: 0.6092\n",
      "163/163 [==============================] - 92s 565ms/step - loss: 1.8171 - acc: 0.4772 - val_loss: 1.3382 - val_acc: 0.6092\n",
      "Epoch 20/40\n",
      "41/41 [==============================] - 7s 180ms/step - loss: 1.2991 - acc: 0.6292\n",
      "163/163 [==============================] - 92s 566ms/step - loss: 1.8186 - acc: 0.4649 - val_loss: 1.2991 - val_acc: 0.6292\n",
      "Epoch 21/40\n",
      "41/41 [==============================] - 7s 180ms/step - loss: 1.3235 - acc: 0.6208\n",
      "163/163 [==============================] - 92s 563ms/step - loss: 1.7879 - acc: 0.4855 - val_loss: 1.3235 - val_acc: 0.6208\n",
      "Epoch 22/40\n",
      "41/41 [==============================] - 7s 180ms/step - loss: 1.3094 - acc: 0.6162\n",
      "163/163 [==============================] - 92s 563ms/step - loss: 1.7444 - acc: 0.4905 - val_loss: 1.3094 - val_acc: 0.6162\n",
      "Epoch 23/40\n",
      "41/41 [==============================] - 7s 180ms/step - loss: 1.2615 - acc: 0.6554\n",
      "163/163 [==============================] - 92s 566ms/step - loss: 1.7606 - acc: 0.4853 - val_loss: 1.2615 - val_acc: 0.6554\n",
      "Epoch 24/40\n",
      "41/41 [==============================] - 7s 180ms/step - loss: 1.2236 - acc: 0.6469\n",
      "163/163 [==============================] - 92s 565ms/step - loss: 1.7041 - acc: 0.4957 - val_loss: 1.2236 - val_acc: 0.6469\n",
      "Epoch 25/40\n",
      "41/41 [==============================] - 7s 179ms/step - loss: 1.1773 - acc: 0.6738\n",
      "163/163 [==============================] - 92s 563ms/step - loss: 1.6778 - acc: 0.5051 - val_loss: 1.1773 - val_acc: 0.6738\n",
      "Epoch 26/40\n",
      "41/41 [==============================] - 7s 179ms/step - loss: 1.1522 - acc: 0.6623\n",
      "163/163 [==============================] - 92s 565ms/step - loss: 1.6623 - acc: 0.5163 - val_loss: 1.1522 - val_acc: 0.6623\n",
      "Epoch 27/40\n",
      "41/41 [==============================] - 7s 180ms/step - loss: 1.3034 - acc: 0.6246\n",
      "163/163 [==============================] - 92s 565ms/step - loss: 1.6185 - acc: 0.5259 - val_loss: 1.3034 - val_acc: 0.6246\n",
      "Epoch 28/40\n",
      "41/41 [==============================] - 7s 179ms/step - loss: 1.2047 - acc: 0.6454\n",
      "163/163 [==============================] - 92s 564ms/step - loss: 1.5978 - acc: 0.5384 - val_loss: 1.2047 - val_acc: 0.6454\n",
      "Epoch 29/40\n",
      "41/41 [==============================] - 7s 180ms/step - loss: 1.0816 - acc: 0.6854\n",
      "163/163 [==============================] - 92s 565ms/step - loss: 1.5615 - acc: 0.5372 - val_loss: 1.0816 - val_acc: 0.6854\n",
      "Epoch 30/40\n",
      "41/41 [==============================] - 7s 179ms/step - loss: 1.1012 - acc: 0.6785\n",
      "163/163 [==============================] - 92s 563ms/step - loss: 1.5163 - acc: 0.5515 - val_loss: 1.1012 - val_acc: 0.6785\n",
      "Epoch 31/40\n",
      "41/41 [==============================] - 7s 178ms/step - loss: 1.0627 - acc: 0.6923\n",
      "163/163 [==============================] - 92s 564ms/step - loss: 1.5076 - acc: 0.5547 - val_loss: 1.0627 - val_acc: 0.6923\n",
      "Epoch 32/40\n",
      "41/41 [==============================] - 7s 179ms/step - loss: 1.1150 - acc: 0.6700\n",
      "163/163 [==============================] - 92s 566ms/step - loss: 1.5014 - acc: 0.5570 - val_loss: 1.1150 - val_acc: 0.6700\n",
      "Epoch 33/40\n",
      "41/41 [==============================] - 7s 180ms/step - loss: 1.1503 - acc: 0.6700\n",
      "163/163 [==============================] - 92s 566ms/step - loss: 1.4708 - acc: 0.5665 - val_loss: 1.1503 - val_acc: 0.6700\n",
      "Epoch 34/40\n",
      "41/41 [==============================] - 7s 180ms/step - loss: 1.0138 - acc: 0.7131\n",
      "163/163 [==============================] - 92s 566ms/step - loss: 1.4407 - acc: 0.5732 - val_loss: 1.0138 - val_acc: 0.7131\n",
      "Epoch 35/40\n",
      "41/41 [==============================] - 7s 180ms/step - loss: 1.0778 - acc: 0.7031\n",
      "163/163 [==============================] - 92s 564ms/step - loss: 1.4189 - acc: 0.5803 - val_loss: 1.0778 - val_acc: 0.7031\n",
      "Epoch 36/40\n",
      "41/41 [==============================] - 7s 179ms/step - loss: 1.0757 - acc: 0.6985\n",
      "163/163 [==============================] - 92s 564ms/step - loss: 1.3886 - acc: 0.5863 - val_loss: 1.0757 - val_acc: 0.6985\n",
      "Epoch 37/40\n",
      "41/41 [==============================] - 7s 177ms/step - loss: 1.0108 - acc: 0.7038\n",
      "163/163 [==============================] - 92s 563ms/step - loss: 1.4204 - acc: 0.5715 - val_loss: 1.0108 - val_acc: 0.7038\n",
      "Epoch 38/40\n",
      "41/41 [==============================] - 7s 180ms/step - loss: 1.0392 - acc: 0.7138\n",
      "163/163 [==============================] - 92s 564ms/step - loss: 1.3952 - acc: 0.5905 - val_loss: 1.0392 - val_acc: 0.7138\n",
      "Epoch 39/40\n",
      "41/41 [==============================] - 7s 180ms/step - loss: 1.0154 - acc: 0.6992\n",
      "163/163 [==============================] - 92s 565ms/step - loss: 1.3626 - acc: 0.5909 - val_loss: 1.0154 - val_acc: 0.6992\n",
      "Epoch 40/40\n",
      "41/41 [==============================] - 7s 179ms/step - loss: 1.0239 - acc: 0.7108\n",
      "163/163 [==============================] - 92s 563ms/step - loss: 1.3460 - acc: 0.5967 - val_loss: 1.0239 - val_acc: 0.7108\n"
     ]
    }
   ],
   "source": [
    "# 训练模型\n",
    "history = model.fit(train_generator, \n",
    "                    steps_per_epoch=train_generator.n // train_generator.batch_size, \n",
    "                    validation_data=val_generator, \n",
    "                    validation_steps=val_generator.n // val_generator.batch_size, \n",
    "                    epochs=40)"
   ]
  },
  {
   "cell_type": "markdown",
   "metadata": {
    "id": "3F645127154140809F6314011F39C1CC",
    "jupyter": {},
    "notebookId": "6705dc4344c2789333d0d7c7",
    "runtime": {
     "execution_status": null,
     "is_visible": false,
     "status": "default"
    },
    "scrolled": false,
    "slideshow": {
     "slide_type": "slide"
    },
    "tags": []
   },
   "source": [
    "## 模型评估"
   ]
  },
  {
   "cell_type": "code",
   "execution_count": 11,
   "metadata": {
    "id": "27FF04B86D714DC699E345CF846AC126",
    "jupyter": {},
    "notebookId": "6705dc4344c2789333d0d7c7",
    "scrolled": false,
    "slideshow": {
     "slide_type": "slide"
    },
    "tags": []
   },
   "outputs": [
    {
     "data": {
      "text/html": [
       "<img src=\"https://cdn.kesci.com/upload/rt/27FF04B86D714DC699E345CF846AC126/sl2vefykg7.png\">"
      ],
      "text/plain": [
       "<Figure size 432x288 with 1 Axes>"
      ]
     },
     "metadata": {
      "needs_background": "light"
     },
     "output_type": "display_data"
    }
   ],
   "source": [
    "plt.plot(history.history['acc'], label='Train Accuracy')\n",
    "plt.plot(history.history['val_acc'], label='Validation Accuracy')\n",
    "plt.title('Model Accuracy')\n",
    "plt.ylabel('Accuracy')\n",
    "plt.xlabel('Epoch')\n",
    "plt.legend()\n",
    "plt.show()"
   ]
  },
  {
   "cell_type": "code",
   "execution_count": 12,
   "metadata": {
    "id": "8FCD06625E0143C7AE239C9383BCE68B",
    "jupyter": {},
    "notebookId": "6705dc4344c2789333d0d7c7",
    "scrolled": false,
    "slideshow": {
     "slide_type": "slide"
    },
    "tags": []
   },
   "outputs": [
    {
     "data": {
      "text/html": [
       "<img src=\"https://cdn.kesci.com/upload/rt/8FCD06625E0143C7AE239C9383BCE68B/sl2veihtjk.png\">"
      ],
      "text/plain": [
       "<Figure size 432x288 with 1 Axes>"
      ]
     },
     "metadata": {
      "needs_background": "light"
     },
     "output_type": "display_data"
    }
   ],
   "source": [
    "plt.plot(history.history['loss'], label='Train Loss')\n",
    "plt.plot(history.history['val_loss'], label='Validation Loss')\n",
    "plt.title('Model Loss')\n",
    "plt.ylabel('Loss')\n",
    "plt.xlabel('Epoch')\n",
    "plt.legend()\n",
    "plt.show()"
   ]
  },
  {
   "cell_type": "code",
   "execution_count": 21,
   "metadata": {
    "id": "764714E9E1084BCEB2F914B9987FD0AF",
    "jupyter": {},
    "notebookId": "6705dc4344c2789333d0d7c7",
    "scrolled": false,
    "slideshow": {
     "slide_type": "slide"
    },
    "tags": []
   },
   "outputs": [],
   "source": [
    "# 保存模型\n",
    "model.save('butterfly_classifier.h5')\n"
   ]
  },
  {
   "cell_type": "markdown",
   "metadata": {
    "id": "2F145BFF9B6245F28AA91BE9ADF2CBCE",
    "jupyter": {},
    "notebookId": "6705dc4344c2789333d0d7c7",
    "runtime": {
     "execution_status": null,
     "is_visible": false,
     "status": "default"
    },
    "scrolled": false,
    "slideshow": {
     "slide_type": "slide"
    },
    "tags": []
   },
   "source": [
    "## 使用模型进行预测展示"
   ]
  },
  {
   "cell_type": "code",
   "execution_count": 27,
   "metadata": {
    "id": "87966D918A0A4A7CB19428D706563786",
    "jupyter": {},
    "notebookId": "6705dc4344c2789333d0d7c7",
    "scrolled": false,
    "slideshow": {
     "slide_type": "slide"
    },
    "tags": []
   },
   "outputs": [
    {
     "data": {
      "text/html": [
       "<img src=\"https://cdn.kesci.com/upload/rt/87966D918A0A4A7CB19428D706563786/sl2we3acgd.png\">"
      ],
      "text/plain": [
       "<Figure size 1080x1080 with 9 Axes>"
      ]
     },
     "metadata": {
      "needs_background": "light"
     },
     "output_type": "display_data"
    }
   ],
   "source": [
    "# 加载之前保存的模型\n",
    "model = load_model('butterfly_classifier.h5')\n",
    "\n",
    "val_images, val_labels = next(val_generator)\n",
    "\n",
    "# 进行预测\n",
    "predictions = model.predict(val_images)\n",
    "pred_labels = np.argmax(predictions, axis=1)\n",
    "true_labels = np.argmax(val_labels, axis=1)\n",
    "\n",
    "# 获取类别映射\n",
    "class_indices = val_generator.class_indices\n",
    "class_names = {v: k for k, v in class_indices.items()}\n",
    "\n",
    "# 定义显示图像的函数\n",
    "def display_images(images, true_labels, pred_labels, class_names, num_images=9):\n",
    "    plt.figure(figsize=(15, 15))\n",
    "    for i in range(num_images):\n",
    "        plt.subplot(3, 3, i + 1)\n",
    "        plt.imshow(images[i])\n",
    "        true_label = class_names[int(true_labels[i])]\n",
    "        pred_label = class_names[int(pred_labels[i])]\n",
    "        plt.title(f\"True: {true_label}\\nPred: {pred_label}\")\n",
    "        plt.axis('off')\n",
    "    plt.tight_layout()\n",
    "    plt.show()\n",
    "\n",
    "# 调用显示函数\n",
    "display_images(val_images, true_labels, pred_labels, class_names, num_images=9)"
   ]
  },
  {
   "cell_type": "markdown",
   "metadata": {
    "id": "DDEEC78C42884140A14FBE08D434614C",
    "jupyter": {},
    "notebookId": "6705dc4344c2789333d0d7c7",
    "runtime": {
     "execution_status": null,
     "is_visible": false,
     "status": "default"
    },
    "scrolled": false,
    "slideshow": {
     "slide_type": "slide"
    },
    "tags": []
   },
   "source": [
    "# 总结  \n",
    "这次这个基于cnn的图像分类，获得了高于 70% 的准确率。可以加载我保存好的模型进行预测试试，感兴趣的还可以继续调参训练"
   ]
  }
 ],
 "metadata": {
  "kernelspec": {
   "display_name": "Python 3 (ipykernel)",
   "language": "python",
   "name": "python3"
  },
  "language_info": {
   "codemirror_mode": {
    "name": "ipython",
    "version": 3
   },
   "file_extension": ".py",
   "mimetype": "text/x-python",
   "name": "python",
   "nbconvert_exporter": "python",
   "pygments_lexer": "ipython3",
   "version": "3.9.7"
  }
 },
 "nbformat": 4,
 "nbformat_minor": 1
}
