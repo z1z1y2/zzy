{
 "cells": [
  {
   "cell_type": "code",
   "execution_count": null,
   "id": "7bd6760e",
   "metadata": {},
   "outputs": [],
   "source": []
  },
  {
   "cell_type": "code",
   "execution_count": 6,
   "id": "eefc6d2a",
   "metadata": {},
   "outputs": [],
   "source": [
    "import os\n",
    "from zhipuai import ZhipuAI\n",
    "import base64\n",
    "\n",
    "os.environ[\"ZHIPUAI_API_KEY\"] = \"359b7ffdf36b25c5d89d98bf4fafb26a.OxlR8MlbaNoyqcAz\"\n",
    "\n",
    "client = ZhipuAI()"
   ]
  },
  {
   "cell_type": "code",
   "execution_count": 2,
   "id": "b40fc69e",
   "metadata": {},
   "outputs": [
    {
     "data": {
      "text/plain": [
       "'C:\\\\Users\\\\admin'"
      ]
     },
     "execution_count": 2,
     "metadata": {},
     "output_type": "execute_result"
    }
   ],
   "source": [
    "pwd"
   ]
  },
  {
   "cell_type": "code",
   "execution_count": 12,
   "id": "598562a0",
   "metadata": {},
   "outputs": [
    {
     "name": "stdout",
     "output_type": "stream",
     "text": [
      "通常来说，视频理解的响应时间较长，需要等待数十秒。。。。\n",
      "CompletionMessage(content='画面中，一群人坐在看台上观看比赛，镜头切换，一个穿着红色衣服的人抱着足球站在球网前，然后他向右转身，接着，镜头切换到俯拍视角，一个人将球踢向红衣男子，红衣男子接住球后快速转身，用右手将球抛出，然后，镜头切换到正面视角，红衣男子抱起球放在地上，然后，他用脚踩着球向前移动，此时，一个黑衣男子从后面跑过来，双手拉住红衣男子的衣服，红衣男子摔倒在地，黑衣男子也摔倒在地，然后，红衣男子站起来，黑衣男子躺在地上，红衣男子伸出左腿踢了一下黑衣男子，然后，红衣男子弯腰用左手摸了摸黑衣男子的头，接着，红衣男子向左边跑去，黑衣男子站起来，他们俩都去抢地上的足球。', role='assistant', tool_calls=None)\n"
     ]
    }
   ],
   "source": [
    "video_path = \"20241120164643393.mp4\"\n",
    "with open(video_path,'rb')as video_file:\n",
    "    video_base = base64.b64encode(video_file.read()).decode('utf-8')\n",
    "\n",
    "print(\"通常来说，视频理解的响应时间较长，需要等待数十秒。。。。\")\n",
    "\n",
    "response = client.chat.completions.create(\n",
    "    model=\"glm-4v-plus\",\n",
    "    temperature=0.0,\n",
    "    top_p=0,\n",
    "    \n",
    "    messages=[{\n",
    "        \"role\":\"user\",\n",
    "        \"content\":[{\n",
    "            \"type\":\"video_url\",\n",
    "            \"video_url\":{\"url\":video_base}  \n",
    "        },{\n",
    "            \"type\":\"text\",\n",
    "            \"text\":\"分析视频\"\n",
    "        }]\n",
    "    }]\n",
    ")\n",
    "print(response.choices[0].message)"
   ]
  },
  {
   "cell_type": "code",
   "execution_count": null,
   "id": "5d64838f",
   "metadata": {},
   "outputs": [],
   "source": []
  },
  {
   "cell_type": "code",
   "execution_count": null,
   "id": "d95e1cf4",
   "metadata": {},
   "outputs": [],
   "source": []
  }
 ],
 "metadata": {
  "kernelspec": {
   "display_name": "Python 3 (ipykernel)",
   "language": "python",
   "name": "python3"
  },
  "language_info": {
   "codemirror_mode": {
    "name": "ipython",
    "version": 3
   },
   "file_extension": ".py",
   "mimetype": "text/x-python",
   "name": "python",
   "nbconvert_exporter": "python",
   "pygments_lexer": "ipython3",
   "version": "3.9.7"
  }
 },
 "nbformat": 4,
 "nbformat_minor": 5
}
