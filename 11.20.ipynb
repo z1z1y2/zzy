{
 "cells": [
  {
   "cell_type": "code",
   "execution_count": 12,
   "id": "b2e48879",
   "metadata": {},
   "outputs": [],
   "source": [
    "from sklearn.datasets import load_breast_cancer\n",
    "from sklearn.model_selection import train_test_split\n",
    "from sklearn.linear_model import LogisticRegression\n",
    "from sklearn.metrics import classification_report, accuracy_score"
   ]
  },
  {
   "cell_type": "code",
   "execution_count": 13,
   "id": "fd95807f",
   "metadata": {},
   "outputs": [],
   "source": [
    "X,y = load_breast_cancer(return_X_y=True)\n",
    "\n",
    "X_train, X_test, y_train, y_test = train_test_split(\n",
    "    X,y,\n",
    "    train_size=0.875,test_size=0.125,random_state=188\n",
    ")"
   ]
  },
  {
   "cell_type": "code",
   "execution_count": 14,
   "id": "53bb0d9a",
   "metadata": {},
   "outputs": [
    {
     "data": {
      "text/plain": [
       "LogisticRegression(max_iter=3000, multi_class='ovr')"
      ]
     },
     "execution_count": 14,
     "metadata": {},
     "output_type": "execute_result"
    }
   ],
   "source": [
    "clf = LogisticRegression(\n",
    "    penalty=\"l2\", C=1.0, random_state=None, solver=\"lbfgs\", max_iter=3000,\n",
    "    multi_class='ovr', verbose=0,\n",
    ")\n",
    "\n",
    "# 训练模型\n",
    "clf.fit(X_train, y_train)"
   ]
  },
  {
   "cell_type": "code",
   "execution_count": 15,
   "id": "70c8fd23",
   "metadata": {},
   "outputs": [],
   "source": [
    "y_pred = clf.predict(X_test)"
   ]
  },
  {
   "cell_type": "code",
   "execution_count": 16,
   "id": "5d3dcd60",
   "metadata": {},
   "outputs": [
    {
     "name": "stdout",
     "output_type": "stream",
     "text": [
      "---report---\n",
      "              precision    recall  f1-score   support\n",
      "\n",
      "           0       0.96      0.96      0.96        27\n",
      "           1       0.98      0.98      0.98        45\n",
      "\n",
      "    accuracy                           0.97        72\n",
      "   macro avg       0.97      0.97      0.97        72\n",
      "weighted avg       0.97      0.97      0.97        72\n",
      "\n",
      "---params---\n",
      "[[ 0.89960769  0.17888852 -0.30396602  0.02572356 -0.17667936 -0.19319243\n",
      "  -0.56543832 -0.30645813 -0.25374937 -0.02428212 -0.07407326  1.09546992\n",
      "   0.11108786 -0.10663238 -0.02759738  0.0854027  -0.03498365 -0.0387471\n",
      "  -0.03079349  0.01957814  0.26004763 -0.45621821 -0.07916768 -0.01658918\n",
      "  -0.36072651 -0.6348124  -1.54604075 -0.6192092  -0.72734147 -0.06821056]] [28.59968311]\n",
      "---accuracy---\n",
      "0.9722222222222222\n"
     ]
    }
   ],
   "source": [
    "print('---report---')\n",
    "print(classification_report(y_test,y_pred))\n",
    "\n",
    "print('---params---')\n",
    "print(clf.coef_,clf.intercept_)\n",
    "\n",
    "print('---accuracy---')\n",
    "print(accuracy_score(y_test,y_pred))"
   ]
  },
  {
   "cell_type": "code",
   "execution_count": null,
   "id": "f19d645f",
   "metadata": {},
   "outputs": [],
   "source": []
  }
 ],
 "metadata": {
  "kernelspec": {
   "display_name": "Python 3 (ipykernel)",
   "language": "python",
   "name": "python3"
  },
  "language_info": {
   "codemirror_mode": {
    "name": "ipython",
    "version": 3
   },
   "file_extension": ".py",
   "mimetype": "text/x-python",
   "name": "python",
   "nbconvert_exporter": "python",
   "pygments_lexer": "ipython3",
   "version": "3.9.7"
  }
 },
 "nbformat": 4,
 "nbformat_minor": 5
}
